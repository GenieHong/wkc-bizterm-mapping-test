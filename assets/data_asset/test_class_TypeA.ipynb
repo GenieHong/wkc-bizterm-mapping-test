{
 "cells": [
  {
   "cell_type": "markdown",
   "metadata": {
    "id": "e012db4845a24687bc09192af7ff6184"
   },
   "source": [
    "## 1. import libs"
   ]
  },
  {
   "cell_type": "code",
   "execution_count": 1,
   "metadata": {
    "id": "48d6f33ac6eb412987d5e53f14762194",
    "tags": []
   },
   "outputs": [],
   "source": [
    "from ibm_watson_studio_lib import access_project_or_space\n",
    "wslib = access_project_or_space()"
   ]
  },
  {
   "cell_type": "markdown",
   "metadata": {
    "id": "f1a530d9bd664e9dace51d4d1ce8f575"
   },
   "source": [
    "## 2. Codes"
   ]
  },
  {
   "cell_type": "code",
   "execution_count": 2,
   "metadata": {
    "id": "2dbcc008-6fc1-45ec-8274-5a2c3309c9ae",
    "tags": []
   },
   "outputs": [],
   "source": [
    "from gov_map_ver6 import MapTerm_JSON\n",
    "\n",
    "## 파라미터\n",
    "#   - info.json: 계정 정보가 담긴 파일 (프로젝트 내 데이터 자산으로 등록 되어 있어야 함)\n",
    "#   - max_retries_map: 비지니스 용어 할당 실패 시 재시도 횟수\n",
    "\n",
    "inst1 = MapTerm_JSON(\"info.json\", max_retries_map=3)\n"
   ]
  },
  {
   "cell_type": "code",
   "execution_count": 3,
   "metadata": {
    "id": "471f9e05-4b45-4513-8155-6dcc20402ad4",
    "tags": []
   },
   "outputs": [
    {
     "name": "stdout",
     "output_type": "stream",
     "text": [
      "[DataAsset:CDB_A_DESC]\n",
      "try 1\n",
      "************************************************************************************************************************\n",
      "0-[BizTerm:차주일련번호][Category:CreDB >> SubCategoryA] =>[Column:join_sn][DataAsset:CDB_A_DESC][Catalog:Test Catalog]\n",
      "Fail to generate attribute\n",
      "차주일련번호 is mapped to join_sn in CDB_A_DESC of Test Catalog\n",
      "Fail to patch attribute\n",
      "========================================================================================================================\n",
      "1-[BizTerm:차주구분번호][Category:CreDB >> SubCategoryA] =>[Column:join_sn_typ][DataAsset:CDB_A_DESC][Catalog:Test Catalog]\n",
      "Fail to generate attribute\n",
      "2-[BizTerm:사업자일련번호][Category:CreDB >> SubCategoryA] =>[Column:biz_sn][DataAsset:CDB_A_DESC][Catalog:Test Catalog]\n",
      "사업자일련번호 is mapped to biz_sn in CDB_A_DESC of Test Catalog\n",
      "Fail to patch attribute\n",
      "========================================================================================================================\n",
      "3-[BizTerm:업종코드][Category:CreDB >> SubCategoryB] =>[Column:biz_typ_cd][DataAsset:CDB_A_DESC][Catalog:Test Catalog]\n",
      "Fail to generate attribute\n",
      "업종코드 is mapped to biz_typ_cd in CDB_A_DESC of Test Catalog\n",
      "Fail to patch attribute\n",
      "========================================================================================================================\n",
      "try 2\n",
      "************************************************************************************************************************\n",
      "0-[BizTerm:차주일련번호][Category:CreDB >> SubCategoryA] =>[Column:join_sn][DataAsset:CDB_A_DESC][Catalog:Test Catalog]\n",
      "차주일련번호 is mapped to join_sn in CDB_A_DESC of Test Catalog\n",
      "Fail to patch attribute\n",
      "========================================================================================================================\n",
      "1-[BizTerm:차주구분번호][Category:CreDB >> SubCategoryA] =>[Column:join_sn_typ][DataAsset:CDB_A_DESC][Catalog:Test Catalog]\n",
      "Fail to generate attribute\n",
      "2-[BizTerm:사업자일련번호][Category:CreDB >> SubCategoryA] =>[Column:biz_sn][DataAsset:CDB_A_DESC][Catalog:Test Catalog]\n",
      "사업자일련번호 is mapped to biz_sn in CDB_A_DESC of Test Catalog\n",
      "Fail to patch attribute\n",
      "========================================================================================================================\n",
      "3-[BizTerm:업종코드][Category:CreDB >> SubCategoryB] =>[Column:biz_typ_cd][DataAsset:CDB_A_DESC][Catalog:Test Catalog]\n",
      "업종코드 is mapped to biz_typ_cd in CDB_A_DESC of Test Catalog\n",
      "Fail to patch attribute\n",
      "========================================================================================================================\n",
      "try 3\n",
      "************************************************************************************************************************\n",
      "0-[BizTerm:차주일련번호][Category:CreDB >> SubCategoryA] =>[Column:join_sn][DataAsset:CDB_A_DESC][Catalog:Test Catalog]\n",
      "차주일련번호 is mapped to join_sn in CDB_A_DESC of Test Catalog\n",
      "Fail to patch attribute\n",
      "========================================================================================================================\n",
      "1-[BizTerm:차주구분번호][Category:CreDB >> SubCategoryA] =>[Column:join_sn_typ][DataAsset:CDB_A_DESC][Catalog:Test Catalog]\n",
      "2-[BizTerm:사업자일련번호][Category:CreDB >> SubCategoryA] =>[Column:biz_sn][DataAsset:CDB_A_DESC][Catalog:Test Catalog]\n",
      "사업자일련번호 is mapped to biz_sn in CDB_A_DESC of Test Catalog\n",
      "Fail to patch attribute\n",
      "========================================================================================================================\n",
      "3-[BizTerm:업종코드][Category:CreDB >> SubCategoryB] =>[Column:biz_typ_cd][DataAsset:CDB_A_DESC][Catalog:Test Catalog]\n",
      "업종코드 is mapped to biz_typ_cd in CDB_A_DESC of Test Catalog\n",
      "========================================================================================================================\n",
      "[DataAsset:CDB_A_DESC] mapping is done!!\n",
      "4 Business term mapping is done and elapsed time is 13.471441745758057s\n",
      "\n",
      "\n",
      "[DataAsset:CDB_A_ID]\n",
      "try 1\n",
      "************************************************************************************************************************\n",
      "4-[BizTerm:차주일련번호][Category:CreDB >> SubCategoryA] =>[Column:join_sn][DataAsset:CDB_A_ID][Catalog:Test Catalog]\n",
      "차주일련번호 is mapped to join_sn in CDB_A_ID of Test Catalog\n",
      "========================================================================================================================\n",
      "5-[BizTerm:차주구분번호][Category:CreDB >> SubCategoryA] =>[Column:join_sn_typ][DataAsset:CDB_A_ID][Catalog:Test Catalog]\n",
      "6-[BizTerm:생년][Category:CreDB >> SubCategoryB] =>[Column:bth_yr][DataAsset:CDB_A_ID][Catalog:Test Catalog]\n",
      "Fail to generate attribute\n",
      "생년 is mapped to bth_yr in CDB_A_ID of Test Catalog\n",
      "Fail to patch attribute\n",
      "========================================================================================================================\n",
      "7-[BizTerm:성별][Category:CreDB >> SubCategoryB] =>[Column:gender][DataAsset:CDB_A_ID][Catalog:Test Catalog]\n",
      "성별 is mapped to gender in CDB_A_ID of Test Catalog\n",
      "========================================================================================================================\n",
      "try 2\n",
      "************************************************************************************************************************\n",
      "5-[BizTerm:차주구분번호][Category:CreDB >> SubCategoryA] =>[Column:join_sn_typ][DataAsset:CDB_A_ID][Catalog:Test Catalog]\n",
      "Fail to generate attribute\n",
      "6-[BizTerm:생년][Category:CreDB >> SubCategoryB] =>[Column:bth_yr][DataAsset:CDB_A_ID][Catalog:Test Catalog]\n",
      "생년 is mapped to bth_yr in CDB_A_ID of Test Catalog\n",
      "Fail to patch attribute\n",
      "========================================================================================================================\n",
      "try 3\n",
      "************************************************************************************************************************\n",
      "5-[BizTerm:차주구분번호][Category:CreDB >> SubCategoryA] =>[Column:join_sn_typ][DataAsset:CDB_A_ID][Catalog:Test Catalog]\n",
      "Fail to generate attribute\n",
      "6-[BizTerm:생년][Category:CreDB >> SubCategoryB] =>[Column:bth_yr][DataAsset:CDB_A_ID][Catalog:Test Catalog]\n",
      "Fail to generate attribute\n",
      "생년 is mapped to bth_yr in CDB_A_ID of Test Catalog\n",
      "Fail to patch attribute\n",
      "========================================================================================================================\n",
      "[DataAsset:CDB_A_ID] mapping is done!!\n",
      "4 Business term mapping is done and elapsed time is 3.177678346633911s\n",
      "\n",
      "\n"
     ]
    }
   ],
   "source": [
    "## 파라미터\n",
    "#   - map-term-demoA.csv: 할당 정보가 담긴 csv 파일 이름 (프로젝트 내 데이터 자산으로 등록 되어 있어야 함)\n",
    "\n",
    "inst1.map_terms_to_asset(\"map-term-demo-copy.csv\")"
   ]
  },
  {
   "cell_type": "code",
   "execution_count": null,
   "metadata": {
    "id": "2f3f7469ec83412c99734ad50fb159c0"
   },
   "outputs": [],
   "source": []
  }
 ],
 "metadata": {
  "kernelspec": {
   "display_name": "Python 3.10",
   "language": "python",
   "name": "python3"
  },
  "language_info": {
   "codemirror_mode": {
    "name": "ipython",
    "version": 3
   },
   "file_extension": ".py",
   "mimetype": "text/x-python",
   "name": "python",
   "nbconvert_exporter": "python",
   "pygments_lexer": "ipython3",
   "version": "3.10.6"
  },
  "vscode": {
   "interpreter": {
    "hash": "de621c7e22490797e8c75970577c8a6a6289aae15d9ba0e5ee6932c660784e35"
   }
  }
 },
 "nbformat": 4,
 "nbformat_minor": 4
}
