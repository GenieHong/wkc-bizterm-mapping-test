{
 "cells": [
  {
   "cell_type": "code",
   "execution_count": 1,
   "metadata": {
    "id": "2dbcc008-6fc1-45ec-8274-5a2c3309c9ae",
    "tags": []
   },
   "outputs": [],
   "source": [
    "from wkcapi_v1 import MapTermsJSON\n",
    "\n",
    "## 파라미터\n",
    "#   - cpd_cluster_host: cpd endpoint\n",
    "#   - info.json: 계정 정보가 담긴 파일 (프로젝트 내 데이터 자산으로 등록 되어 있어야 함)    \n",
    "\n",
    "wkc = MapTermsJSON(\n",
    "    cpd_cluster_host = 'https://cpd-zen.apps.infra.cp4dex.com',\n",
    "    info_json='info.json'\n",
    ")\n",
    "\n",
    "    "
   ]
  },
  {
   "cell_type": "code",
   "execution_count": 2,
   "metadata": {
    "id": "471f9e05-4b45-4513-8155-6dcc20402ad4",
    "tags": []
   },
   "outputs": [
    {
     "name": "stdout",
     "output_type": "stream",
     "text": [
      "Creating and patching attribute on CDB_A_DESC of Test Catalog..\n",
      "Creating and patching attribute on CDB_A_ID of Test Catalog..\n",
      "====================================================================================================\n",
      "it takes 7.034371852874756 seconds / (0.8792964816093445 sec per column)\n"
     ]
    }
   ],
   "source": [
    "## 파라미터\n",
    "#   - map-bizterm-glossary.csv: 할당 정보가 담긴 csv 파일 이름 (프로젝트 내 데이터 자산으로 등록 되어 있어야 함)\n",
    "\n",
    "wkc.map_bizterm_allatonce('map-bizterm-glossary.csv')"
   ]
  },
  {
   "cell_type": "code",
   "execution_count": 3,
   "metadata": {
    "id": "2f3f7469ec83412c99734ad50fb159c0",
    "tags": []
   },
   "outputs": [
    {
     "name": "stdout",
     "output_type": "stream",
     "text": [
      "{\n",
      "    \"trace\": \"bgq3dvy4ywslfz88ab83wtytn\",\n",
      "    \"errors\": [\n",
      "        {\n",
      "            \"code\": \"does_not_exist\",\n",
      "            \"message\": \"attribute column_info\",\n",
      "            \"target\": {\n",
      "                \"type\": \"parameter\",\n",
      "                \"name\": \"column_info\"\n",
      "            }\n",
      "        }\n",
      "    ]\n",
      "}\n",
      "{\n",
      "    \"trace\": \"a2qik4duhn3wct9j1i8nje7dk\",\n",
      "    \"errors\": [\n",
      "        {\n",
      "            \"code\": \"does_not_exist\",\n",
      "            \"message\": \"attribute column_info\",\n",
      "            \"target\": {\n",
      "                \"type\": \"parameter\",\n",
      "                \"name\": \"column_info\"\n",
      "            }\n",
      "        }\n",
      "    ]\n",
      "}\n"
     ]
    }
   ],
   "source": [
    "wkc.delete_attribute('CDB_A_ID','Test Catalog')\n",
    "wkc.delete_attribute('CDB_A_DESC','Test Catalog')\n",
    "wkc.get_attribute('CDB_A_ID','Test Catalog')\n",
    "wkc.get_attribute('CDB_A_DESC','Test Catalog')"
   ]
  },
  {
   "cell_type": "code",
   "execution_count": null,
   "metadata": {
    "id": "d7e50303-901b-491f-9990-f74ffd25db03"
   },
   "outputs": [],
   "source": []
  }
 ],
 "metadata": {
  "kernelspec": {
   "display_name": "Python 3.10",
   "language": "python",
   "name": "python3"
  },
  "language_info": {
   "codemirror_mode": {
    "name": "ipython",
    "version": 3
   },
   "file_extension": ".py",
   "mimetype": "text/x-python",
   "name": "python",
   "nbconvert_exporter": "python",
   "pygments_lexer": "ipython3",
   "version": "3.10.6"
  },
  "vscode": {
   "interpreter": {
    "hash": "de621c7e22490797e8c75970577c8a6a6289aae15d9ba0e5ee6932c660784e35"
   }
  }
 },
 "nbformat": 4,
 "nbformat_minor": 4
}
