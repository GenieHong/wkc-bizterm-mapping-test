{
 "cells": [
  {
   "cell_type": "markdown",
   "metadata": {
    "id": "e012db4845a24687bc09192af7ff6184"
   },
   "source": [
    "## 1. import libs"
   ]
  },
  {
   "cell_type": "code",
   "execution_count": 1,
   "metadata": {
    "id": "48d6f33ac6eb412987d5e53f14762194",
    "tags": []
   },
   "outputs": [],
   "source": [
    "from ibm_watson_studio_lib import access_project_or_space\n",
    "wslib = access_project_or_space()"
   ]
  },
  {
   "cell_type": "markdown",
   "metadata": {
    "id": "f1a530d9bd664e9dace51d4d1ce8f575"
   },
   "source": [
    "## 2. Codes"
   ]
  },
  {
   "cell_type": "code",
   "execution_count": 2,
   "metadata": {
    "id": "2dbcc008-6fc1-45ec-8274-5a2c3309c9ae",
    "tags": []
   },
   "outputs": [],
   "source": [
    "from gov_map_ver6 import MapTerm_JSON\n",
    "\n",
    "## 파라미터\n",
    "#   - info.json: 계정 정보가 담긴 파일 (프로젝트 내 데이터 자산으로 등록 되어 있어야 함)\n",
    "#   - max_retries_map: 비지니스 용어 할당 실패 시 재시도 횟수\n",
    "\n",
    "inst1 = MapTerm_JSON(\"info.json\", max_retries_map=3)\n"
   ]
  },
  {
   "cell_type": "code",
   "execution_count": 3,
   "metadata": {
    "id": "471f9e05-4b45-4513-8155-6dcc20402ad4",
    "tags": []
   },
   "outputs": [
    {
     "name": "stdout",
     "output_type": "stream",
     "text": [
      "[DataAsset:CDB_A_ID]\n",
      "try 1\n",
      "************************************************************************************************************************\n",
      "4-[BizTerm:차주일련번호][Category:CreDB >> SubCategoryA] =>[Column:JOIN_SN][DataAsset:CDB_A_ID][Catalog:Test Catalog]\n",
      "Fail to generate attribute\n",
      "차주일련번호 is mapped to JOIN_SN in CDB_A_ID of Test Catalog\n",
      "Fail to patch attribute\n",
      "========================================================================================================================\n",
      "5-[BizTerm:차주구분번호][Category:CreDB >> SubCategoryA] =>[Column:JOIN_SN_TYP][DataAsset:CDB_A_ID][Catalog:Test Catalog]\n",
      "Fail to generate attribute\n",
      "6-[BizTerm:생년][Category:CreDB >> SubCategoryB] =>[Column:BTH_YR][DataAsset:CDB_A_ID][Catalog:Test Catalog]\n",
      "Fail to generate attribute\n",
      "생년 is mapped to BTH_YR in CDB_A_ID of Test Catalog\n",
      "Fail to patch attribute\n",
      "========================================================================================================================\n",
      "7-[BizTerm:성별][Category:CreDB >> SubCategoryB] =>[Column:GENDER][DataAsset:CDB_A_ID][Catalog:Test Catalog]\n",
      "Fail to generate attribute\n",
      "성별 is mapped to GENDER in CDB_A_ID of Test Catalog\n",
      "Fail to patch attribute\n",
      "========================================================================================================================\n",
      "try 2\n",
      "************************************************************************************************************************\n",
      "4-[BizTerm:차주일련번호][Category:CreDB >> SubCategoryA] =>[Column:JOIN_SN][DataAsset:CDB_A_ID][Catalog:Test Catalog]\n",
      "차주일련번호 is mapped to JOIN_SN in CDB_A_ID of Test Catalog\n",
      "Fail to patch attribute\n",
      "========================================================================================================================\n",
      "5-[BizTerm:차주구분번호][Category:CreDB >> SubCategoryA] =>[Column:JOIN_SN_TYP][DataAsset:CDB_A_ID][Catalog:Test Catalog]\n",
      "Fail to generate attribute\n",
      "6-[BizTerm:생년][Category:CreDB >> SubCategoryB] =>[Column:BTH_YR][DataAsset:CDB_A_ID][Catalog:Test Catalog]\n",
      "Fail to generate attribute\n",
      "생년 is mapped to BTH_YR in CDB_A_ID of Test Catalog\n",
      "Fail to patch attribute\n",
      "========================================================================================================================\n",
      "7-[BizTerm:성별][Category:CreDB >> SubCategoryB] =>[Column:GENDER][DataAsset:CDB_A_ID][Catalog:Test Catalog]\n",
      "성별 is mapped to GENDER in CDB_A_ID of Test Catalog\n",
      "========================================================================================================================\n",
      "try 3\n",
      "************************************************************************************************************************\n",
      "4-[BizTerm:차주일련번호][Category:CreDB >> SubCategoryA] =>[Column:JOIN_SN][DataAsset:CDB_A_ID][Catalog:Test Catalog]\n",
      "Fail to generate attribute\n",
      "차주일련번호 is mapped to JOIN_SN in CDB_A_ID of Test Catalog\n",
      "========================================================================================================================\n",
      "5-[BizTerm:차주구분번호][Category:CreDB >> SubCategoryA] =>[Column:JOIN_SN_TYP][DataAsset:CDB_A_ID][Catalog:Test Catalog]\n",
      "6-[BizTerm:생년][Category:CreDB >> SubCategoryB] =>[Column:BTH_YR][DataAsset:CDB_A_ID][Catalog:Test Catalog]\n",
      "생년 is mapped to BTH_YR in CDB_A_ID of Test Catalog\n",
      "Fail to patch attribute\n",
      "========================================================================================================================\n",
      "[DataAsset:CDB_A_ID] mapping is done!!\n",
      "4 Business term mapping is done and elapsed time is 12.071707010269165s\n",
      "\n",
      "\n",
      "[DataAsset:CDB_A_DESC]\n",
      "try 1\n",
      "************************************************************************************************************************\n",
      "0-[BizTerm:차주일련번호][Category:CreDB >> SubCategoryA] =>[Column:JOIN_SN][DataAsset:CDB_A_DESC][Catalog:Test Catalog]\n",
      "Fail to generate attribute\n",
      "차주일련번호 is mapped to JOIN_SN in CDB_A_DESC of Test Catalog\n",
      "Fail to patch attribute\n",
      "========================================================================================================================\n",
      "1-[BizTerm:차주구분번호][Category:CreDB >> SubCategoryA] =>[Column:JOIN_SN_TYP][DataAsset:CDB_A_DESC][Catalog:Test Catalog]\n",
      "Fail to generate attribute\n",
      "2-[BizTerm:사업자일련번호][Category:CreDB >> SubCategoryA] =>[Column:BIZ_SN][DataAsset:CDB_A_DESC][Catalog:Test Catalog]\n",
      "Fail to generate attribute\n",
      "사업자일련번호 is mapped to BIZ_SN in CDB_A_DESC of Test Catalog\n",
      "Fail to patch attribute\n",
      "========================================================================================================================\n",
      "3-[BizTerm:업종코드][Category:CreDB >> SubCategoryB] =>[Column:BIZ_TYP_CD][DataAsset:CDB_A_DESC][Catalog:Test Catalog]\n",
      "Fail to generate attribute\n",
      "업종코드 is mapped to BIZ_TYP_CD in CDB_A_DESC of Test Catalog\n",
      "Fail to patch attribute\n",
      "========================================================================================================================\n",
      "try 2\n",
      "************************************************************************************************************************\n",
      "0-[BizTerm:차주일련번호][Category:CreDB >> SubCategoryA] =>[Column:JOIN_SN][DataAsset:CDB_A_DESC][Catalog:Test Catalog]\n",
      "Fail to generate attribute\n",
      "차주일련번호 is mapped to JOIN_SN in CDB_A_DESC of Test Catalog\n",
      "Fail to patch attribute\n",
      "========================================================================================================================\n",
      "1-[BizTerm:차주구분번호][Category:CreDB >> SubCategoryA] =>[Column:JOIN_SN_TYP][DataAsset:CDB_A_DESC][Catalog:Test Catalog]\n",
      "Fail to generate attribute\n",
      "2-[BizTerm:사업자일련번호][Category:CreDB >> SubCategoryA] =>[Column:BIZ_SN][DataAsset:CDB_A_DESC][Catalog:Test Catalog]\n",
      "사업자일련번호 is mapped to BIZ_SN in CDB_A_DESC of Test Catalog\n",
      "Fail to patch attribute\n",
      "========================================================================================================================\n",
      "3-[BizTerm:업종코드][Category:CreDB >> SubCategoryB] =>[Column:BIZ_TYP_CD][DataAsset:CDB_A_DESC][Catalog:Test Catalog]\n",
      "Fail to generate attribute\n",
      "업종코드 is mapped to BIZ_TYP_CD in CDB_A_DESC of Test Catalog\n",
      "Fail to patch attribute\n",
      "========================================================================================================================\n",
      "try 3\n",
      "************************************************************************************************************************\n",
      "0-[BizTerm:차주일련번호][Category:CreDB >> SubCategoryA] =>[Column:JOIN_SN][DataAsset:CDB_A_DESC][Catalog:Test Catalog]\n",
      "차주일련번호 is mapped to JOIN_SN in CDB_A_DESC of Test Catalog\n",
      "Fail to patch attribute\n",
      "========================================================================================================================\n",
      "1-[BizTerm:차주구분번호][Category:CreDB >> SubCategoryA] =>[Column:JOIN_SN_TYP][DataAsset:CDB_A_DESC][Catalog:Test Catalog]\n",
      "2-[BizTerm:사업자일련번호][Category:CreDB >> SubCategoryA] =>[Column:BIZ_SN][DataAsset:CDB_A_DESC][Catalog:Test Catalog]\n",
      "Fail to generate attribute\n",
      "사업자일련번호 is mapped to BIZ_SN in CDB_A_DESC of Test Catalog\n",
      "Fail to patch attribute\n",
      "========================================================================================================================\n",
      "3-[BizTerm:업종코드][Category:CreDB >> SubCategoryB] =>[Column:BIZ_TYP_CD][DataAsset:CDB_A_DESC][Catalog:Test Catalog]\n",
      "Fail to generate attribute\n",
      "업종코드 is mapped to BIZ_TYP_CD in CDB_A_DESC of Test Catalog\n",
      "Fail to patch attribute\n",
      "========================================================================================================================\n",
      "[DataAsset:CDB_A_DESC] mapping is done!!\n",
      "4 Business term mapping is done and elapsed time is 9.755328178405762s\n",
      "\n",
      "\n"
     ]
    },
    {
     "ename": "FileNotFoundError",
     "evalue": "[Errno 2] No such file or directory: '/home/wsuser/work/map-term-demo-copy.csv'",
     "output_type": "error",
     "traceback": [
      "\u001b[0;31m---------------------------------------------------------------------------\u001b[0m",
      "\u001b[0;31mFileNotFoundError\u001b[0m                         Traceback (most recent call last)",
      "Input \u001b[0;32mIn [3]\u001b[0m, in \u001b[0;36m<cell line: 4>\u001b[0;34m()\u001b[0m\n\u001b[1;32m      1\u001b[0m \u001b[38;5;66;03m## 파라미터\u001b[39;00m\n\u001b[1;32m      2\u001b[0m \u001b[38;5;66;03m#   - map-term-demoA.csv: 할당 정보가 담긴 csv 파일 이름 (프로젝트 내 데이터 자산으로 등록 되어 있어야 함)\u001b[39;00m\n\u001b[0;32m----> 4\u001b[0m \u001b[43minst1\u001b[49m\u001b[38;5;241;43m.\u001b[39;49m\u001b[43mmap_terms_to_asset\u001b[49m\u001b[43m(\u001b[49m\u001b[38;5;124;43m\"\u001b[39;49m\u001b[38;5;124;43mmap-term-demo-copy.csv\u001b[39;49m\u001b[38;5;124;43m\"\u001b[39;49m\u001b[43m)\u001b[49m\n",
      "File \u001b[0;32m/userfs/assets/data_asset/gov_map_ver6.py:296\u001b[0m, in \u001b[0;36mWatsonDataAPI.map_terms_to_asset\u001b[0;34m(self, map_terms_csv)\u001b[0m\n\u001b[1;32m    294\u001b[0m     \u001b[38;5;28mprint\u001b[39m(\u001b[38;5;124mf\u001b[39m\u001b[38;5;124m\"\u001b[39m\u001b[38;5;132;01m{\u001b[39;00mnum_bizterm\u001b[38;5;132;01m}\u001b[39;00m\u001b[38;5;124m Business term mapping is done and elapsed time is \u001b[39m\u001b[38;5;132;01m{\u001b[39;00melapsed_time\u001b[38;5;132;01m}\u001b[39;00m\u001b[38;5;124ms\u001b[39m\u001b[38;5;124m\"\u001b[39m)\n\u001b[1;32m    295\u001b[0m     \u001b[38;5;28mprint\u001b[39m(\u001b[38;5;124m\"\u001b[39m\u001b[38;5;130;01m\\n\u001b[39;00m\u001b[38;5;124m\"\u001b[39m)\n\u001b[0;32m--> 296\u001b[0m \u001b[43msave_file\u001b[49m\u001b[43m(\u001b[49m\u001b[43mmap_terms\u001b[49m\u001b[43m,\u001b[49m\u001b[43mmap_terms_csv\u001b[49m\u001b[43m)\u001b[49m\n",
      "File \u001b[0;32m/userfs/assets/data_asset/gov_map_ver6.py:29\u001b[0m, in \u001b[0;36msave_file\u001b[0;34m(df, file_name)\u001b[0m\n\u001b[1;32m     27\u001b[0m df\u001b[38;5;241m.\u001b[39mto_csv(file_name, index\u001b[38;5;241m=\u001b[39m\u001b[38;5;28;01mFalse\u001b[39;00m)\n\u001b[1;32m     28\u001b[0m file_path \u001b[38;5;241m=\u001b[39m \u001b[38;5;124m\"\u001b[39m\u001b[38;5;124m/home/wsuser/work/\u001b[39m\u001b[38;5;124m\"\u001b[39m \u001b[38;5;241m+\u001b[39m file_name\n\u001b[0;32m---> 29\u001b[0m \u001b[38;5;28;01mwith\u001b[39;00m \u001b[38;5;28;43mopen\u001b[39;49m\u001b[43m(\u001b[49m\u001b[43mfile_path\u001b[49m\u001b[43m,\u001b[49m\u001b[43m \u001b[49m\u001b[38;5;124;43m'\u001b[39;49m\u001b[38;5;124;43mrb\u001b[39;49m\u001b[38;5;124;43m'\u001b[39;49m\u001b[43m)\u001b[49m \u001b[38;5;28;01mas\u001b[39;00m f:\n\u001b[1;32m     30\u001b[0m     wslib\u001b[38;5;241m.\u001b[39msave_data(asset_name_or_item\u001b[38;5;241m=\u001b[39mfile_name, data\u001b[38;5;241m=\u001b[39mf\u001b[38;5;241m.\u001b[39mread(), overwrite\u001b[38;5;241m=\u001b[39m\u001b[38;5;28;01mTrue\u001b[39;00m)\n",
      "\u001b[0;31mFileNotFoundError\u001b[0m: [Errno 2] No such file or directory: '/home/wsuser/work/map-term-demo-copy.csv'"
     ]
    }
   ],
   "source": [
    "## 파라미터\n",
    "#   - map-term-demoA.csv: 할당 정보가 담긴 csv 파일 이름 (프로젝트 내 데이터 자산으로 등록 되어 있어야 함)\n",
    "\n",
    "inst1.map_terms_to_asset(\"map-term-demo-copy.csv\")"
   ]
  },
  {
   "cell_type": "code",
   "execution_count": null,
   "metadata": {
    "id": "2f3f7469ec83412c99734ad50fb159c0"
   },
   "outputs": [],
   "source": []
  }
 ],
 "metadata": {
  "kernelspec": {
   "display_name": "Python 3.10",
   "language": "python",
   "name": "python3"
  },
  "language_info": {
   "codemirror_mode": {
    "name": "ipython",
    "version": 3
   },
   "file_extension": ".py",
   "mimetype": "text/x-python",
   "name": "python",
   "nbconvert_exporter": "python",
   "pygments_lexer": "ipython3",
   "version": "3.10.6"
  },
  "vscode": {
   "interpreter": {
    "hash": "de621c7e22490797e8c75970577c8a6a6289aae15d9ba0e5ee6932c660784e35"
   }
  }
 },
 "nbformat": 4,
 "nbformat_minor": 4
}
