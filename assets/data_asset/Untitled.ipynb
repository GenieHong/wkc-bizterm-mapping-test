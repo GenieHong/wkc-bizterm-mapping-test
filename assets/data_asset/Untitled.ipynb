{
 "cells": [
  {
   "cell_type": "code",
   "execution_count": 2,
   "id": "b4eefa79-2071-4b83-9d78-fa4b3e8ea716",
   "metadata": {
    "id": "dd589a61-99ff-48df-90db-b8ded09af6f3",
    "tags": []
   },
   "outputs": [
    {
     "name": "stdout",
     "output_type": "stream",
     "text": [
      "# 0\n",
      "{'name': 'PostgreSQL CreDB_LGHH_CDB_A_ID_shaped',\n",
      " 'description': None,\n",
      " 'asset_id': 'data_asset.PostgreSQLCreDBLGHHCDBAIDshaped',\n",
      " 'asset_type': 'data_asset',\n",
      " 'tags': None}\n",
      "# 1\n",
      "{'name': 'PostgreSQL CreDB',\n",
      " 'description': None,\n",
      " 'asset_id': 'connection.PostgreSQLCreDB',\n",
      " 'asset_type': 'connection',\n",
      " 'tags': None}\n",
      "# 2\n",
      "{'name': 'refine_flow',\n",
      " 'description': '',\n",
      " 'asset_id': 'job.refineflow',\n",
      " 'asset_type': 'job',\n",
      " 'tags': None}\n",
      "# 3\n",
      "{'name': 'PostgreSQL CreDB-LGHH-CDB_A_ID_flow',\n",
      " 'description': '',\n",
      " 'asset_id': 'data_flow.PostgreSQLCreDBLGHHCDBAIDflow',\n",
      " 'asset_type': 'data_flow',\n",
      " 'tags': None}\n",
      "# 4\n",
      "{'name': 'job run',\n",
      " 'description': None,\n",
      " 'asset_id': 'job_run.jobrun',\n",
      " 'asset_type': 'job_run',\n",
      " 'tags': None}\n"
     ]
    }
   ],
   "source": [
    "# Import the lib\n",
    "from ibm_watson_studio_lib import access_project_or_space\n",
    "wslib = access_project_or_space()\n",
    "\n",
    "# List all assets in the project or space\n",
    "all_assets = wslib.assets.list_assets(\"asset\")\n",
    "wslib.show(all_assets)"
   ]
  },
  {
   "cell_type": "code",
   "execution_count": 3,
   "id": "ea5d2258-0293-4878-929c-b363426baddc",
   "metadata": {
    "id": "ea5d2258-0293-4878-929c-b363426baddc",
    "tags": []
   },
   "outputs": [
    {
     "data": {
      "text/plain": [
       "[{'name': 'PostgreSQL CreDB_LGHH_CDB_A_ID_shaped',\n",
       "  'description': None,\n",
       "  'asset_id': 'data_asset.PostgreSQLCreDBLGHHCDBAIDshaped',\n",
       "  'asset_type': 'data_asset',\n",
       "  'tags': None},\n",
       " {'name': 'PostgreSQL CreDB',\n",
       "  'description': None,\n",
       "  'asset_id': 'connection.PostgreSQLCreDB',\n",
       "  'asset_type': 'connection',\n",
       "  'tags': None},\n",
       " {'name': 'refine_flow',\n",
       "  'description': '',\n",
       "  'asset_id': 'job.refineflow',\n",
       "  'asset_type': 'job',\n",
       "  'tags': None},\n",
       " {'name': 'PostgreSQL CreDB-LGHH-CDB_A_ID_flow',\n",
       "  'description': '',\n",
       "  'asset_id': 'data_flow.PostgreSQLCreDBLGHHCDBAIDflow',\n",
       "  'asset_type': 'data_flow',\n",
       "  'tags': None},\n",
       " {'name': 'job run',\n",
       "  'description': None,\n",
       "  'asset_id': 'job_run.jobrun',\n",
       "  'asset_type': 'job_run',\n",
       "  'tags': None}]"
      ]
     },
     "execution_count": 3,
     "metadata": {},
     "output_type": "execute_result"
    }
   ],
   "source": [
    "all_assets"
   ]
  },
  {
   "cell_type": "code",
   "execution_count": 8,
   "id": "dcb74652-d283-4066-b6c0-83cb781deef8",
   "metadata": {
    "id": "dcb74652-d283-4066-b6c0-83cb781deef8",
    "tags": []
   },
   "outputs": [],
   "source": [
    "# List all data assets with name 'MyFile.csv'\n",
    "assets_by_name = wslib.assets.list_assets(\"data_asset\", name=\"PostgreSQL CreDB_LGHH_CDB_A_ID_shaped\")"
   ]
  },
  {
   "cell_type": "code",
   "execution_count": 9,
   "id": "5498a421-739d-4a20-ac64-2c693eb475dc",
   "metadata": {
    "id": "5498a421-739d-4a20-ac64-2c693eb475dc",
    "tags": []
   },
   "outputs": [
    {
     "data": {
      "text/plain": [
       "[{'name': 'PostgreSQL CreDB_LGHH_CDB_A_ID_shaped',\n",
       "  'description': None,\n",
       "  'asset_id': 'data_asset.PostgreSQLCreDBLGHHCDBAIDshaped',\n",
       "  'asset_type': 'data_asset',\n",
       "  'tags': None}]"
      ]
     },
     "execution_count": 9,
     "metadata": {},
     "output_type": "execute_result"
    }
   ],
   "source": [
    "assets_by_name"
   ]
  },
  {
   "cell_type": "code",
   "execution_count": 10,
   "id": "d2ecb75a-4177-4f56-bdad-66c06aa39b61",
   "metadata": {
    "id": "d2ecb75a-4177-4f56-bdad-66c06aa39b61",
    "tags": []
   },
   "outputs": [
    {
     "ename": "RuntimeError",
     "evalue": "No asset named \"map-term-demo.csv\" of type \"data_asset\".",
     "output_type": "error",
     "traceback": [
      "\u001b[0;31m---------------------------------------------------------------------------\u001b[0m",
      "\u001b[0;31mRuntimeError\u001b[0m                              Traceback (most recent call last)",
      "Input \u001b[0;32mIn [10]\u001b[0m, in \u001b[0;36m<cell line: 1>\u001b[0;34m()\u001b[0m\n\u001b[0;32m----> 1\u001b[0m \u001b[43mwslib\u001b[49m\u001b[38;5;241;43m.\u001b[39;49m\u001b[43mdownload_file\u001b[49m\u001b[43m(\u001b[49m\u001b[38;5;124;43m'\u001b[39;49m\u001b[38;5;124;43mmap-term-demo.csv\u001b[39;49m\u001b[38;5;124;43m'\u001b[39;49m\u001b[43m)\u001b[49m\n",
      "File \u001b[0;32m/opt/conda/envs/Python-3.10/lib/python3.10/site-packages/ibm_watson_studio_lib/impl/agent.py:288\u001b[0m, in \u001b[0;36mAgent.download_file\u001b[0;34m(self, asset_name_or_item, file_name, attachment_type_or_item)\u001b[0m\n\u001b[1;32m    285\u001b[0m \u001b[38;5;28;01mdef\u001b[39;00m \u001b[38;5;21mdownload_file\u001b[39m(\u001b[38;5;28mself\u001b[39m, asset_name_or_item, file_name\u001b[38;5;241m=\u001b[39m\u001b[38;5;28;01mNone\u001b[39;00m, \u001b[38;5;241m*\u001b[39m, \n\u001b[1;32m    286\u001b[0m                   attachment_type_or_item\u001b[38;5;241m=\u001b[39m\u001b[38;5;28;01mNone\u001b[39;00m):\n\u001b[0;32m--> 288\u001b[0m     content, attachment \u001b[38;5;241m=\u001b[39m \u001b[38;5;28;43mself\u001b[39;49m\u001b[38;5;241;43m.\u001b[39;49m\u001b[43m_load_data\u001b[49m\u001b[43m(\u001b[49m\u001b[43masset_name_or_item\u001b[49m\u001b[43m,\u001b[49m\u001b[43m \u001b[49m\n\u001b[1;32m    289\u001b[0m \u001b[43m                             \u001b[49m\u001b[43mattachment_type_or_item\u001b[49m\u001b[38;5;241;43m=\u001b[39;49m\u001b[43mattachment_type_or_item\u001b[49m\u001b[43m)\u001b[49m\n\u001b[1;32m    291\u001b[0m     \u001b[38;5;28;01mif\u001b[39;00m \u001b[38;5;129;01mnot\u001b[39;00m file_name:\n\u001b[1;32m    292\u001b[0m         file_name \u001b[38;5;241m=\u001b[39m attachment\u001b[38;5;241m.\u001b[39mget(\u001b[38;5;124m'\u001b[39m\u001b[38;5;124mname\u001b[39m\u001b[38;5;124m'\u001b[39m)\n",
      "File \u001b[0;32m/opt/conda/envs/Python-3.10/lib/python3.10/site-packages/ibm_watson_studio_lib/impl/agent.py:182\u001b[0m, in \u001b[0;36mAgent._load_data\u001b[0;34m(self, asset_name_or_item, attachment_type_or_item)\u001b[0m\n\u001b[1;32m    180\u001b[0m     asset \u001b[38;5;241m=\u001b[39m asset_name_or_item\n\u001b[1;32m    181\u001b[0m \u001b[38;5;28;01melse\u001b[39;00m:\n\u001b[0;32m--> 182\u001b[0m     asset \u001b[38;5;241m=\u001b[39m \u001b[38;5;28;43mself\u001b[39;49m\u001b[38;5;241;43m.\u001b[39;49m\u001b[43massets\u001b[49m\u001b[38;5;241;43m.\u001b[39;49m\u001b[43mget_stored_data\u001b[49m\u001b[43m(\u001b[49m\u001b[43masset_name_or_item\u001b[49m\u001b[43m)\u001b[49m\n\u001b[1;32m    184\u001b[0m attachment \u001b[38;5;241m=\u001b[39m \u001b[38;5;28mself\u001b[39m\u001b[38;5;241m.\u001b[39massets\u001b[38;5;241m.\u001b[39m_select_attachment(asset, selector)\n\u001b[1;32m    186\u001b[0m \u001b[38;5;28;01mreturn\u001b[39;00m \u001b[38;5;28mself\u001b[39m\u001b[38;5;241m.\u001b[39m_keeper\u001b[38;5;241m.\u001b[39mload_data(asset, attachment), attachment\n",
      "File \u001b[0;32m/opt/conda/envs/Python-3.10/lib/python3.10/site-packages/ibm_watson_studio_lib/assets_abc.py:193\u001b[0m, in \u001b[0;36mAssetBrowserABC.get_stored_data\u001b[0;34m(self, name_or_item, raw)\u001b[0m\n\u001b[1;32m    178\u001b[0m \u001b[38;5;28;01mdef\u001b[39;00m \u001b[38;5;21mget_stored_data\u001b[39m(\u001b[38;5;28mself\u001b[39m, name_or_item, \u001b[38;5;241m*\u001b[39m, raw\u001b[38;5;241m=\u001b[39m\u001b[38;5;28;01mFalse\u001b[39;00m):\n\u001b[1;32m    179\u001b[0m     \u001b[38;5;124;03m\"\"\"Obtain the properties of a stored data asset.\u001b[39;00m\n\u001b[1;32m    180\u001b[0m \n\u001b[1;32m    181\u001b[0m \u001b[38;5;124;03m    name_or_item   Either a string with the name of a stored data\u001b[39;00m\n\u001b[0;32m   (...)\u001b[0m\n\u001b[1;32m    191\u001b[0m \u001b[38;5;124;03m    If the name is not found or not unique, an error will be raised.\u001b[39;00m\n\u001b[1;32m    192\u001b[0m \u001b[38;5;124;03m    \"\"\"\u001b[39;00m\n\u001b[0;32m--> 193\u001b[0m     asset_id \u001b[38;5;241m=\u001b[39m \u001b[38;5;28;43mself\u001b[39;49m\u001b[38;5;241;43m.\u001b[39;49m\u001b[43m_identify_asset\u001b[49m\u001b[43m(\u001b[49m\u001b[43mname_or_item\u001b[49m\u001b[43m,\u001b[49m\u001b[43m \u001b[49m\u001b[38;5;124;43m\"\u001b[39;49m\u001b[38;5;124;43mdata_asset\u001b[39;49m\u001b[38;5;124;43m\"\u001b[39;49m\u001b[43m)\u001b[49m\n\u001b[1;32m    194\u001b[0m     \u001b[38;5;28;01mreturn\u001b[39;00m \u001b[38;5;28mself\u001b[39m\u001b[38;5;241m.\u001b[39m_lookup_stored_data(asset_id, raw\u001b[38;5;241m=\u001b[39mraw)\n",
      "File \u001b[0;32m/opt/conda/envs/Python-3.10/lib/python3.10/site-packages/ibm_watson_studio_lib/impl/asset_browser.py:133\u001b[0m, in \u001b[0;36mAssetBrowser._identify_asset\u001b[0;34m(self, name_or_item, asset_type, optional)\u001b[0m\n\u001b[1;32m    130\u001b[0m asset_id \u001b[38;5;241m=\u001b[39m \u001b[38;5;28mself\u001b[39m\u001b[38;5;241m.\u001b[39m_extract_asset_id(name_or_item, asset_type)\n\u001b[1;32m    132\u001b[0m \u001b[38;5;28;01mif\u001b[39;00m \u001b[38;5;129;01mnot\u001b[39;00m asset_id \u001b[38;5;129;01mand\u001b[39;00m \u001b[38;5;28misinstance\u001b[39m(name_or_item, \u001b[38;5;28mstr\u001b[39m):\n\u001b[0;32m--> 133\u001b[0m     asset_id \u001b[38;5;241m=\u001b[39m \u001b[38;5;28;43mself\u001b[39;49m\u001b[38;5;241;43m.\u001b[39;49m\u001b[43m_name_to_id\u001b[49m\u001b[43m(\u001b[49m\n\u001b[1;32m    134\u001b[0m \u001b[43m        \u001b[49m\u001b[43mname_or_item\u001b[49m\u001b[43m,\u001b[49m\u001b[43m \u001b[49m\u001b[43masset_type\u001b[49m\u001b[43m,\u001b[49m\u001b[43m \u001b[49m\u001b[43moptional\u001b[49m\u001b[38;5;241;43m=\u001b[39;49m\u001b[43moptional\u001b[49m\u001b[43m)\u001b[49m\n\u001b[1;32m    136\u001b[0m \u001b[38;5;28;01mif\u001b[39;00m \u001b[38;5;129;01mnot\u001b[39;00m asset_id \u001b[38;5;129;01mand\u001b[39;00m \u001b[38;5;129;01mnot\u001b[39;00m optional:\n\u001b[1;32m    137\u001b[0m     \u001b[38;5;28;01mraise\u001b[39;00m \u001b[38;5;167;01mRuntimeError\u001b[39;00m(\u001b[38;5;124m'\u001b[39m\u001b[38;5;124mcannot identify asset from \u001b[39m\u001b[38;5;132;01m{}\u001b[39;00m\u001b[38;5;124m'\u001b[39m\n\u001b[1;32m    138\u001b[0m                        \u001b[38;5;241m.\u001b[39mformat(\u001b[38;5;28mtype\u001b[39m(name_or_instance)))\n",
      "File \u001b[0;32m/opt/conda/envs/Python-3.10/lib/python3.10/site-packages/ibm_watson_studio_lib/impl/asset_browser.py:415\u001b[0m, in \u001b[0;36mAssetBrowser._name_to_id\u001b[0;34m(self, name, asset_type, optional)\u001b[0m\n\u001b[1;32m    413\u001b[0m     \u001b[38;5;28;01mif\u001b[39;00m optional:\n\u001b[1;32m    414\u001b[0m         \u001b[38;5;28;01mreturn\u001b[39;00m \u001b[38;5;28;01mNone\u001b[39;00m\n\u001b[0;32m--> 415\u001b[0m     \u001b[38;5;28;01mraise\u001b[39;00m \u001b[38;5;167;01mRuntimeError\u001b[39;00m(\u001b[38;5;124m'\u001b[39m\u001b[38;5;124mNo asset named \u001b[39m\u001b[38;5;124m\"\u001b[39m\u001b[38;5;132;01m{}\u001b[39;00m\u001b[38;5;124m\"\u001b[39m\u001b[38;5;124m of type \u001b[39m\u001b[38;5;124m\"\u001b[39m\u001b[38;5;132;01m{}\u001b[39;00m\u001b[38;5;124m\"\u001b[39m\u001b[38;5;124m.\u001b[39m\u001b[38;5;124m'\u001b[39m\n\u001b[1;32m    416\u001b[0m                        \u001b[38;5;241m.\u001b[39mformat(name, asset_type))\n\u001b[1;32m    417\u001b[0m \u001b[38;5;28;01mif\u001b[39;00m \u001b[38;5;28mlen\u001b[39m(items) \u001b[38;5;241m>\u001b[39m \u001b[38;5;241m1\u001b[39m:\n\u001b[1;32m    418\u001b[0m     errmsg \u001b[38;5;241m=\u001b[39m (\u001b[38;5;124m'\u001b[39m\u001b[38;5;124mMultiple assets named \u001b[39m\u001b[38;5;124m\"\u001b[39m\u001b[38;5;132;01m{}\u001b[39;00m\u001b[38;5;124m\"\u001b[39m\u001b[38;5;124m of type \u001b[39m\u001b[38;5;124m\"\u001b[39m\u001b[38;5;132;01m{}\u001b[39;00m\u001b[38;5;124m\"\u001b[39m\u001b[38;5;124m.\u001b[39m\u001b[38;5;124m'\u001b[39m\n\u001b[1;32m    419\u001b[0m               \u001b[38;5;241m.\u001b[39mformat(name, asset_type))\n",
      "\u001b[0;31mRuntimeError\u001b[0m: No asset named \"map-term-demo.csv\" of type \"data_asset\"."
     ]
    }
   ],
   "source": [
    "# wslib.download_file('map-term-demo.csv')\n",
    "\n",
    "wslib.save_data('map-term-demo.csv', pandas_df.to_csv(index=False).encode())"
   ]
  },
  {
   "cell_type": "code",
   "execution_count": 11,
   "id": "b2f4effd-55ed-4c5e-9b58-b04248631f96",
   "metadata": {
    "id": "b2f4effd-55ed-4c5e-9b58-b04248631f96",
    "tags": []
   },
   "outputs": [
    {
     "data": {
      "text/plain": [
       "{'name': 'map-term-demo.csv',\n",
       " 'asset_type': 'data_asset',\n",
       " 'asset_id': 'data_asset.maptermdemocsv',\n",
       " 'attachment_id': '542fdc42-c45d-4bc9-9a77-3f278b774601',\n",
       " 'filepath': 'map-term-demo3ca472f249cf4b449a4b598c98d65912.csv',\n",
       " 'data_size': None,\n",
       " 'mime': 'text/csv',\n",
       " 'summary': ['created file', 'created data asset', 'created attachment']}"
      ]
     },
     "execution_count": 11,
     "metadata": {},
     "output_type": "execute_result"
    }
   ],
   "source": [
    "import pandas as pd\n",
    "pandas_df= pd.read_csv('map-term-demo.csv')\n",
    "wslib.save_data('map-term-demo.csv', pandas_df.to_csv(index=False).encode())"
   ]
  },
  {
   "cell_type": "code",
   "execution_count": null,
   "id": "67d43993-34cb-4ba6-b449-7b51036f5526",
   "metadata": {
    "id": "67d43993-34cb-4ba6-b449-7b51036f5526"
   },
   "outputs": [],
   "source": []
  }
 ],
 "metadata": {
  "kernelspec": {
   "display_name": "Python 3.10",
   "language": "python",
   "name": "python3"
  },
  "language_info": {
   "codemirror_mode": {
    "name": "ipython",
    "version": 3
   },
   "file_extension": ".py",
   "mimetype": "text/x-python",
   "name": "python",
   "nbconvert_exporter": "python",
   "pygments_lexer": "ipython3",
   "version": "3.10.6"
  }
 },
 "nbformat": 4,
 "nbformat_minor": 5
}
