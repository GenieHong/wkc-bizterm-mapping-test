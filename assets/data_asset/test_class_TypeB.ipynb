{
 "cells": [
  {
   "cell_type": "code",
   "execution_count": 1,
   "metadata": {
    "id": "70882a10ec594d00872b55d424ee9340",
    "tags": []
   },
   "outputs": [
    {
     "name": "stdin",
     "output_type": "stream",
     "text": [
      "1) ID를 입력하세요: kj_user00\n",
      "2) 비밀번호:  ··········\n"
     ]
    }
   ],
   "source": [
    "from wkcapi_v1 import MapTermsInput\n",
    "\n",
    "## 파라미터\n",
    "#   - info.json: 계정 정보가 담긴 파일 (프로젝트 내 데이터 자산으로 등록 되어 있어야 함)\n",
    "#   - max_retries_map: 비지니스 용어 할당 실패 시 재시도 횟수\n",
    "wkc = MapTermsInput(\n",
    "    cpd_cluster_host = 'https://cpd-zen.apps.infra.cp4dex.com',\n",
    ")"
   ]
  },
  {
   "cell_type": "code",
   "execution_count": 2,
   "metadata": {
    "id": "0c26c2607fbd474c90125789c859228a",
    "tags": []
   },
   "outputs": [
    {
     "name": "stdout",
     "output_type": "stream",
     "text": [
      "Creating and patching attribute on CDB_A_DESC of Test Catalog..\n",
      "Creating and patching attribute on CDB_A_ID of Test Catalog..\n",
      "====================================================================================================\n",
      "it takes 5.9544196128845215 seconds / (0.7443024516105652 sec per column)\n"
     ]
    }
   ],
   "source": [
    "## 파라미터\n",
    "#   - map-bizterm-glossary.csv: 할당 정보가 담긴 csv 파일 이름 (프로젝트 내 데이터 자산으로 등록 되어 있어야 함)\n",
    "wkc.map_bizterm_allatonce('map-bizterm-glossary.csv')"
   ]
  },
  {
   "cell_type": "code",
   "execution_count": 3,
   "metadata": {
    "id": "b9b6ce8573c340c8828103cd1a9c1aad",
    "tags": []
   },
   "outputs": [
    {
     "name": "stdout",
     "output_type": "stream",
     "text": [
      "{\n",
      "    \"trace\": \"2b5zzj171etlu2rsjn0s8r9rf\",\n",
      "    \"errors\": [\n",
      "        {\n",
      "            \"code\": \"does_not_exist\",\n",
      "            \"message\": \"attribute column_info\",\n",
      "            \"target\": {\n",
      "                \"type\": \"parameter\",\n",
      "                \"name\": \"column_info\"\n",
      "            }\n",
      "        }\n",
      "    ]\n",
      "}\n",
      "{\n",
      "    \"trace\": \"100eo8y5y9htd656jliz2dk5m\",\n",
      "    \"errors\": [\n",
      "        {\n",
      "            \"code\": \"does_not_exist\",\n",
      "            \"message\": \"attribute column_info\",\n",
      "            \"target\": {\n",
      "                \"type\": \"parameter\",\n",
      "                \"name\": \"column_info\"\n",
      "            }\n",
      "        }\n",
      "    ]\n",
      "}\n"
     ]
    }
   ],
   "source": [
    "wkc.delete_attribute('CDB_A_ID','Test Catalog')\n",
    "wkc.delete_attribute('CDB_A_DESC','Test Catalog')\n",
    "wkc.get_attribute('CDB_A_ID','Test Catalog')\n",
    "wkc.get_attribute('CDB_A_DESC','Test Catalog')"
   ]
  },
  {
   "cell_type": "code",
   "execution_count": null,
   "metadata": {
    "id": "3de08585-ec60-4d39-8278-82e85181bd13"
   },
   "outputs": [],
   "source": []
  }
 ],
 "metadata": {
  "kernelspec": {
   "display_name": "Python 3.10",
   "language": "python",
   "name": "python3"
  },
  "language_info": {
   "codemirror_mode": {
    "name": "ipython",
    "version": 3
   },
   "file_extension": ".py",
   "mimetype": "text/x-python",
   "name": "python",
   "nbconvert_exporter": "python",
   "pygments_lexer": "ipython3",
   "version": "3.10.6"
  }
 },
 "nbformat": 4,
 "nbformat_minor": 4
}
