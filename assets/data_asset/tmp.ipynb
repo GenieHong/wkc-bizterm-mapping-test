{
 "cells": [
  {
   "cell_type": "code",
   "execution_count": null,
   "id": "d51771fa-9ce4-4596-93b1-e7346ad4906b",
   "metadata": {
    "id": "736e64ed-6dd2-43d8-9a3d-63f5abf84c57",
    "tags": []
   },
   "outputs": [],
   "source": [
    "print(\"hello world\")"
   ]
  }
 ],
 "metadata": {
  "kernelspec": {
   "display_name": "Python 3.10",
   "language": "python",
   "name": "python3"
  },
  "language_info": {
   "codemirror_mode": {
    "name": "ipython",
    "version": 3
   },
   "file_extension": ".py",
   "mimetype": "text/x-python",
   "name": "python",
   "nbconvert_exporter": "python",
   "pygments_lexer": "ipython3",
   "version": "3.10.6"
  }
 },
 "nbformat": 4,
 "nbformat_minor": 5
}
